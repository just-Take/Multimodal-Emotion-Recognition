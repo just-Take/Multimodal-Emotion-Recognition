{
  "cells": [
    {
      "cell_type": "markdown",
      "metadata": {
        "id": "AsxhRVAbUaIz"
      },
      "source": [
        "# Lab: Sentiment classification\n",
        "First, we import some of libraries, including *vectorizers* and *classifiers*."
      ]
    },
    {
      "cell_type": "code",
      "execution_count": null,
      "metadata": {
        "id": "tlf08peAUaI0"
      },
      "outputs": [],
      "source": [
        "import csv\n",
        "import pandas as pd\n",
        "import sklearn.model_selection as skm\n",
        "from sklearn.feature_extraction.text import CountVectorizer, TfidfVectorizer\n",
        "from sklearn.naive_bayes import MultinomialNB\n",
        "from sklearn.svm import SVC\n",
        "from sklearn.metrics import (accuracy_score,\n",
        "                             confusion_matrix,\n",
        "                             ConfusionMatrixDisplay)\n",
        "import matplotlib.pyplot as plt"
      ]
    },
    {
      "cell_type": "code",
      "execution_count": null,
      "metadata": {
        "id": "iGxjpfFRNWKr"
      },
      "outputs": [],
      "source": [
        "# from google.colab import drive\n",
        "# drive.mount('/content/drive')"
      ]
    },
    {
      "cell_type": "markdown",
      "metadata": {
        "id": "U89TY9fMUaI1"
      },
      "source": [
        "## Loading data\n",
        "\n",
        "We use a subset of the *Yelp reviews* dataset: each short text is accompanied with a sentiment label (0 -- negative, 1 -- positive)."
      ]
    },
    {
      "cell_type": "code",
      "execution_count": null,
      "metadata": {
        "id": "KI24l5ajUaI2"
      },
      "outputs": [],
      "source": [
        "train_data = pd.read_csv('/content/drive/MyDrive/Data Mining & Deep Learning/meld/train/train_sent_emo.csv')\n",
        "val_data = pd.read_csv('/content/drive/MyDrive/Data Mining & Deep Learning/meld/dev_sent_emo.csv')\n",
        "test_data = pd.read_csv('/content/drive/MyDrive/Data Mining & Deep Learning/meld/test_sent_emo.csv')"
      ]
    },
    {
      "cell_type": "markdown",
      "metadata": {
        "id": "98yPzak8UaI2"
      },
      "source": [
        "## Data preparation\n",
        "We split the data into train and test subsets and transform texts into vectors."
      ]
    },
    {
      "cell_type": "code",
      "execution_count": null,
      "metadata": {
        "id": "QKgOt8myUaI2"
      },
      "outputs": [],
      "source": [
        "train_text = train_data['Utterance']\n",
        "y_train_text = train_data['Emotion']\n",
        "\n",
        "val_text = val_data['Utterance']\n",
        "y_val_text = val_data['Emotion']\n",
        "\n",
        "test_text = test_data['Utterance']\n",
        "y_test_text = test_data['Emotion']\n",
        "# y_anger = data[data['Emotion'] == 'anger']\n",
        "# y_joy = data[data['Emotion'] == 'joy']\n",
        "# y_sadness = data[data['Emotion'] == 'sadness']\n",
        "# y_disgust = data[data['Emotion'] == 'disgust']\n",
        "# y_neutral = data[data['Emotion'] == 'neutral']\n",
        "# y_fear = data[data['Emotion'] == 'fear']\n",
        "# y_surprise = data[data['Emotion'] == 'surprise']\n",
        "\n",
        "# print(len(y_anger), len(y_joy), len(y_sadness), len(y_disgust), len(y_neutral), len(y_fear), len(y_surprise))\n",
        "# X_text_train, X_text_test, y_train, y_test = skm.train_test_split(text, y_text, test_size=0.2, stratify=y_text, random_state=42)\n",
        "# X_text_newtrain, X_text_val, y_newtrain, y_val = skm.train_test_split(X_text_train, y_train, test_size=(1/8), stratify=y_train, random_state=42)"
      ]
    },
    {
      "cell_type": "code",
      "source": [
        "X_text_train = []\n",
        "y_train = []\n",
        "\n",
        "X_text_val = []\n",
        "y_val = []\n",
        "\n",
        "X_text_test = []\n",
        "y_test = []\n",
        "\n",
        "unique_values_train = {'anger': 0, 'disgust': 0, 'sadness': 0, 'joy':0, 'fear':0, 'neutral':0, 'surprise': 0}\n",
        "\n",
        "for i in range(len(y_train_text)):\n",
        "    value = unique_values_train.get(y_train_text[i])\n",
        "    if(value < 400):\n",
        "      value += 1\n",
        "      unique_values_train[y_train_text[i]] = value\n",
        "      X_text_train.append(train_text[i])\n",
        "      y_train.append(y_train_text[i])\n",
        "\n",
        "\n",
        "print(unique_values_train)\n",
        "print(len(X_text_train), len(y_train))\n",
        "\n",
        "unique_values_val = {'anger': 0, 'disgust': 0, 'sadness': 0, 'joy':0, 'fear':0, 'neutral':0, 'surprise': 0}\n",
        "\n",
        "for i in range(len(y_val_text)):\n",
        "    value = unique_values_val.get(y_val_text[i])\n",
        "    if(value < 50):\n",
        "      value += 1\n",
        "      unique_values_val[y_val_text[i]] = value\n",
        "      X_text_val.append(val_text[i])\n",
        "      y_val.append(y_val_text[i])\n",
        "\n",
        "\n",
        "print(unique_values_val)\n",
        "print(len(X_text_val), len(y_val))\n",
        "\n",
        "unique_values_test = {'anger': 0, 'disgust': 0, 'sadness': 0, 'joy':0, 'fear':0, 'neutral':0, 'surprise': 0}\n",
        "\n",
        "for i in range(len(y_test_text)):\n",
        "    value = unique_values_test.get(y_test_text[i])\n",
        "    if(value < 50):\n",
        "      value += 1\n",
        "      unique_values_test[y_test_text[i]] = value\n",
        "      X_text_test.append(test_text[i])\n",
        "      y_test.append(y_test_text[i])\n",
        "\n",
        "\n",
        "print(unique_values_test)\n",
        "print(len(X_text_test), len(y_test))"
      ],
      "metadata": {
        "colab": {
          "base_uri": "https://localhost:8080/"
        },
        "id": "310PFTAc5Tnn",
        "outputId": "128676da-a3e2-47d5-e416-96ea73ebec86"
      },
      "execution_count": null,
      "outputs": [
        {
          "output_type": "stream",
          "name": "stdout",
          "text": [
            "{'anger': 400, 'disgust': 271, 'sadness': 400, 'joy': 400, 'fear': 268, 'neutral': 400, 'surprise': 400}\n",
            "2539 2539\n",
            "{'anger': 50, 'disgust': 22, 'sadness': 50, 'joy': 50, 'fear': 40, 'neutral': 50, 'surprise': 50}\n",
            "312 312\n",
            "{'anger': 50, 'disgust': 50, 'sadness': 50, 'joy': 50, 'fear': 50, 'neutral': 50, 'surprise': 50}\n",
            "350 350\n"
          ]
        }
      ]
    },
    {
      "cell_type": "code",
      "execution_count": null,
      "metadata": {
        "id": "9VcTNEA2VbsE"
      },
      "outputs": [],
      "source": [
        "list_stop_words = ['english', None]\n",
        "min_dfs = [1, 0.1, 0.01, 0.001, 0.001]\n",
        "binaries = [False, True]\n",
        "lowercases = [False, True]\n",
        "alphas = [1e-9, 1e-8, 1.0e-7, 1.0e-6, 1.0e-5, 1.0e-4, 1.0e-3, 1.0e-2, 1.0e-1, 1.0, 10.0, 100.0]\n",
        "\n",
        "best_stop_words = None\n",
        "best_min_df = None\n",
        "best_binary = None\n",
        "best_lowercase = None\n",
        "best_val_acc = 0\n",
        "best_alpha = None\n",
        "\n",
        "for stop_words in list_stop_words:\n",
        "    for min_df in min_dfs:\n",
        "        for binary in binaries:\n",
        "            for lowercase in lowercases:\n",
        "                vectorizer = CountVectorizer(min_df=min_df, stop_words=stop_words, binary=binary, lowercase=lowercase)\n",
        "                X_train = vectorizer.fit_transform(X_text_train)\n",
        "                X_val = vectorizer.transform(X_text_val)\n",
        "\n",
        "                if X_train.shape[1] > 0:\n",
        "                    for alpha in alphas:\n",
        "                        clf = MultinomialNB(alpha=alpha)\n",
        "                        clf.fit(X_train, y_train)\n",
        "                        val_acc = accuracy_score(y_val, clf.predict(X_val))\n",
        "\n",
        "                        if val_acc >= best_val_acc:\n",
        "                            best_stop_words = stop_words\n",
        "                            best_min_df = min_df\n",
        "                            best_binary = binary\n",
        "                            best_lowercase = lowercase\n",
        "                            best_val_acc = val_acc\n",
        "                            best_alpha = alpha"
      ]
    },
    {
      "cell_type": "code",
      "execution_count": null,
      "metadata": {
        "colab": {
          "base_uri": "https://localhost:8080/"
        },
        "id": "mtw1YkXdauyF",
        "outputId": "32ed395a-a9e7-4737-8a06-3542ee77f7a1"
      },
      "outputs": [
        {
          "output_type": "stream",
          "name": "stdout",
          "text": [
            "Best parameters are None 1 False True\n",
            "Best validation accuracy is 0.3525641025641026 with alpha 0.1\n",
            "Vocabulary size:  2463\n"
          ]
        }
      ],
      "source": [
        "vectorizer = CountVectorizer(min_df=best_min_df, stop_words=best_stop_words, binary=best_binary, lowercase=best_lowercase)\n",
        "X_train = vectorizer.fit_transform(X_text_train)\n",
        "X_test = vectorizer.transform(X_text_test)\n",
        "X_val = vectorizer.transform(X_text_val)\n",
        "\n",
        "print('Best parameters are ' + str(best_stop_words) + ' ' + str(best_min_df) + ' ' + str(best_binary) + ' ' + str(best_lowercase))\n",
        "print('Best validation accuracy is ' + str(best_val_acc) + ' with alpha ' + str(best_alpha))\n",
        "print('Vocabulary size: ', X_train.shape[1])"
      ]
    },
    {
      "cell_type": "markdown",
      "metadata": {
        "id": "YqagHMNzUaI3"
      },
      "source": [
        "## Training and testing\n",
        "\n",
        "We fit a multinomial naive Bayes classifier and test it."
      ]
    },
    {
      "cell_type": "code",
      "execution_count": null,
      "metadata": {
        "colab": {
          "base_uri": "https://localhost:8080/",
          "height": 72
        },
        "id": "VmJ-wgOPUaI3",
        "outputId": "0d466e44-1312-4c95-e710-abd38f6c385e"
      },
      "outputs": [
        {
          "output_type": "execute_result",
          "data": {
            "text/plain": [
              "MultinomialNB(alpha=0.1)"
            ],
            "text/html": [
              "<style>#sk-container-id-1 {color: black;background-color: white;}#sk-container-id-1 pre{padding: 0;}#sk-container-id-1 div.sk-toggleable {background-color: white;}#sk-container-id-1 label.sk-toggleable__label {cursor: pointer;display: block;width: 100%;margin-bottom: 0;padding: 0.3em;box-sizing: border-box;text-align: center;}#sk-container-id-1 label.sk-toggleable__label-arrow:before {content: \"▸\";float: left;margin-right: 0.25em;color: #696969;}#sk-container-id-1 label.sk-toggleable__label-arrow:hover:before {color: black;}#sk-container-id-1 div.sk-estimator:hover label.sk-toggleable__label-arrow:before {color: black;}#sk-container-id-1 div.sk-toggleable__content {max-height: 0;max-width: 0;overflow: hidden;text-align: left;background-color: #f0f8ff;}#sk-container-id-1 div.sk-toggleable__content pre {margin: 0.2em;color: black;border-radius: 0.25em;background-color: #f0f8ff;}#sk-container-id-1 input.sk-toggleable__control:checked~div.sk-toggleable__content {max-height: 200px;max-width: 100%;overflow: auto;}#sk-container-id-1 input.sk-toggleable__control:checked~label.sk-toggleable__label-arrow:before {content: \"▾\";}#sk-container-id-1 div.sk-estimator input.sk-toggleable__control:checked~label.sk-toggleable__label {background-color: #d4ebff;}#sk-container-id-1 div.sk-label input.sk-toggleable__control:checked~label.sk-toggleable__label {background-color: #d4ebff;}#sk-container-id-1 input.sk-hidden--visually {border: 0;clip: rect(1px 1px 1px 1px);clip: rect(1px, 1px, 1px, 1px);height: 1px;margin: -1px;overflow: hidden;padding: 0;position: absolute;width: 1px;}#sk-container-id-1 div.sk-estimator {font-family: monospace;background-color: #f0f8ff;border: 1px dotted black;border-radius: 0.25em;box-sizing: border-box;margin-bottom: 0.5em;}#sk-container-id-1 div.sk-estimator:hover {background-color: #d4ebff;}#sk-container-id-1 div.sk-parallel-item::after {content: \"\";width: 100%;border-bottom: 1px solid gray;flex-grow: 1;}#sk-container-id-1 div.sk-label:hover label.sk-toggleable__label {background-color: #d4ebff;}#sk-container-id-1 div.sk-serial::before {content: \"\";position: absolute;border-left: 1px solid gray;box-sizing: border-box;top: 0;bottom: 0;left: 50%;z-index: 0;}#sk-container-id-1 div.sk-serial {display: flex;flex-direction: column;align-items: center;background-color: white;padding-right: 0.2em;padding-left: 0.2em;position: relative;}#sk-container-id-1 div.sk-item {position: relative;z-index: 1;}#sk-container-id-1 div.sk-parallel {display: flex;align-items: stretch;justify-content: center;background-color: white;position: relative;}#sk-container-id-1 div.sk-item::before, #sk-container-id-1 div.sk-parallel-item::before {content: \"\";position: absolute;border-left: 1px solid gray;box-sizing: border-box;top: 0;bottom: 0;left: 50%;z-index: -1;}#sk-container-id-1 div.sk-parallel-item {display: flex;flex-direction: column;z-index: 1;position: relative;background-color: white;}#sk-container-id-1 div.sk-parallel-item:first-child::after {align-self: flex-end;width: 50%;}#sk-container-id-1 div.sk-parallel-item:last-child::after {align-self: flex-start;width: 50%;}#sk-container-id-1 div.sk-parallel-item:only-child::after {width: 0;}#sk-container-id-1 div.sk-dashed-wrapped {border: 1px dashed gray;margin: 0 0.4em 0.5em 0.4em;box-sizing: border-box;padding-bottom: 0.4em;background-color: white;}#sk-container-id-1 div.sk-label label {font-family: monospace;font-weight: bold;display: inline-block;line-height: 1.2em;}#sk-container-id-1 div.sk-label-container {text-align: center;}#sk-container-id-1 div.sk-container {/* jupyter's `normalize.less` sets `[hidden] { display: none; }` but bootstrap.min.css set `[hidden] { display: none !important; }` so we also need the `!important` here to be able to override the default hidden behavior on the sphinx rendered scikit-learn.org. See: https://github.com/scikit-learn/scikit-learn/issues/21755 */display: inline-block !important;position: relative;}#sk-container-id-1 div.sk-text-repr-fallback {display: none;}</style><div id=\"sk-container-id-1\" class=\"sk-top-container\"><div class=\"sk-text-repr-fallback\"><pre>MultinomialNB(alpha=0.1)</pre><b>In a Jupyter environment, please rerun this cell to show the HTML representation or trust the notebook. <br />On GitHub, the HTML representation is unable to render, please try loading this page with nbviewer.org.</b></div><div class=\"sk-container\" hidden><div class=\"sk-item\"><div class=\"sk-estimator sk-toggleable\"><input class=\"sk-toggleable__control sk-hidden--visually\" id=\"sk-estimator-id-1\" type=\"checkbox\" checked><label for=\"sk-estimator-id-1\" class=\"sk-toggleable__label sk-toggleable__label-arrow\">MultinomialNB</label><div class=\"sk-toggleable__content\"><pre>MultinomialNB(alpha=0.1)</pre></div></div></div></div></div>"
            ]
          },
          "metadata": {},
          "execution_count": 9
        }
      ],
      "source": [
        "clf = MultinomialNB(alpha=best_alpha)\n",
        "clf.fit(X_train, y_train)"
      ]
    },
    {
      "cell_type": "code",
      "execution_count": null,
      "metadata": {
        "colab": {
          "base_uri": "https://localhost:8080/"
        },
        "id": "hNSCqI77Vinl",
        "outputId": "5015fade-fcf9-4ef1-f4e9-2136e0c294fe"
      },
      "outputs": [
        {
          "output_type": "stream",
          "name": "stdout",
          "text": [
            "Test set accuracy: 0.277\n"
          ]
        }
      ],
      "source": [
        "print('Test set accuracy: %.3f' % accuracy_score(y_test, clf.predict(X_test)))"
      ]
    },
    {
      "cell_type": "code",
      "execution_count": null,
      "metadata": {
        "colab": {
          "base_uri": "https://localhost:8080/",
          "height": 448
        },
        "id": "G5IDF5TIUaI3",
        "outputId": "d11e9ada-4d58-477b-c15b-396493830b59"
      },
      "outputs": [
        {
          "output_type": "display_data",
          "data": {
            "text/plain": [
              "<Figure size 640x480 with 2 Axes>"
            ],
            "image/png": "[encoded data removed]"
          },
          "metadata": {}
        }
      ],
      "source": [
        "disp = ConfusionMatrixDisplay.from_estimator(\n",
        "        clf,\n",
        "        X_test,\n",
        "        y_test,\n",
        "        cmap=plt.cm.Blues,\n",
        "    )"
      ]
    },
    {
      "cell_type": "markdown",
      "metadata": {
        "id": "7WX3pR1keY-Y"
      },
      "source": [
        "#Training and Testing for CountVectorizer and SVC"
      ]
    },
    {
      "cell_type": "code",
      "execution_count": null,
      "metadata": {
        "id": "gWN8yZnmeeCE"
      },
      "outputs": [],
      "source": [
        "#CountVectorizer and SVC\n",
        "list_stop_words = ['english', None]\n",
        "min_dfs = [1, 0.1, 0.01, 0.001]\n",
        "binaries = [False, True]\n",
        "lowercases = [False, True]\n",
        "\n",
        "Cs = [0.001, 0.01, 0.1, 1, 10, 100]\n",
        "kernels = ['linear', 'rbf', 'poly']\n",
        "gammas = ['scale', 'auto']\n",
        "\n",
        "best_stop_words = None\n",
        "best_min_df = None\n",
        "best_binary = None\n",
        "best_lowercase = None\n",
        "best_val_acc = 0\n",
        "best_C = None\n",
        "best_kernel = None\n",
        "best_gamma = None\n",
        "\n",
        "for stop_words in list_stop_words:\n",
        "  for min_df in min_dfs:\n",
        "    for binary in binaries:\n",
        "      for lowercase in lowercases:\n",
        "        vectorizer = CountVectorizer(min_df=min_df, stop_words=stop_words, binary=binary, lowercase=lowercase)\n",
        "        X_train = vectorizer.fit_transform(X_text_train)\n",
        "        X_val = vectorizer.transform(X_text_val)\n",
        "        for C in Cs:\n",
        "          for kernel in kernels:\n",
        "            for gamma in gammas:\n",
        "              clf = SVC(C = C, kernel = kernel, gamma = gamma)\n",
        "              clf.fit(X_train, y_train)\n",
        "              val_acc = accuracy_score(y_val, clf.predict(X_val))\n",
        "              if val_acc >= best_val_acc:\n",
        "                best_stop_words = stop_words\n",
        "                best_min_df = min_df\n",
        "                best_binary = binary\n",
        "                best_lowercase = lowercase\n",
        "                best_val_acc = val_acc\n",
        "                best_C = C\n",
        "                best_kernel = kernel\n",
        "                best_gamma = gamma"
      ]
    },
    {
      "cell_type": "code",
      "source": [
        "# from google.colab import drive\n",
        "# drive.mount('/content/drive')"
      ],
      "metadata": {
        "id": "VJ0JcugiNwZd"
      },
      "execution_count": null,
      "outputs": []
    },
    {
      "cell_type": "code",
      "execution_count": null,
      "metadata": {
        "id": "D_9crMMvefz9"
      },
      "outputs": [],
      "source": [
        "vectorizer = CountVectorizer(min_df=best_min_df, stop_words=best_stop_words, binary=best_binary, lowercase=best_lowercase)\n",
        "X_train = vectorizer.fit_transform(X_text_train)\n",
        "X_test = vectorizer.transform(X_text_test)\n",
        "X_val = vectorizer.transform(X_text_val)\n",
        "\n",
        "print('Best parameters are ' + str(best_stop_words) + ' ' + str(best_min_df) + ' ' + str(best_binary) + ' ' + str(best_lowercase))\n",
        "print('Best validation accuracy is ' + str(best_val_acc) + ' with C=' + str(best_C) + ' and kernel=' + best_kernel + ' and gamma=' + best_gamma)\n",
        "print('Vocabulary size: ', X_train.shape[1])"
      ]
    },
    {
      "cell_type": "code",
      "execution_count": null,
      "metadata": {
        "id": "xHHRZwZ4eifP"
      },
      "outputs": [],
      "source": [
        "clf = SVC(C = best_C, kernel = best_kernel, gamma = best_gamma)\n",
        "clf.fit(X_train, y_train)"
      ]
    },
    {
      "cell_type": "code",
      "execution_count": null,
      "metadata": {
        "id": "GgusLtTkeltf"
      },
      "outputs": [],
      "source": [
        "print('Test set accuracy: %.3f' % accuracy_score(y_test, clf.predict(X_test)))"
      ]
    },
    {
      "cell_type": "code",
      "execution_count": null,
      "metadata": {
        "id": "LGr5oss6enjP"
      },
      "outputs": [],
      "source": [
        "disp = ConfusionMatrixDisplay.from_estimator(\n",
        "        clf,\n",
        "        X_test,\n",
        "        y_test,\n",
        "        cmap=plt.cm.Blues,\n",
        ")"
      ]
    },
    {
      "cell_type": "markdown",
      "metadata": {
        "id": "hO2ZHrJ0b8-a"
      },
      "source": [
        "#Training and Testing for TfidfVectorizer and MultinomialNB\n",
        "\n",
        "---\n",
        "\n",
        "\n",
        "\n",
        "\n"
      ]
    },
    {
      "cell_type": "code",
      "execution_count": null,
      "metadata": {
        "id": "wHu9cWv6bXIi"
      },
      "outputs": [],
      "source": [
        "#TfidfVectorizer and MultinomialNB\n",
        "list_stop_words = ['english', None]\n",
        "min_dfs = [1, 0.1, 0.01, 0.001, 0.0001, 0.00001]\n",
        "binaries = [False, True]\n",
        "lowercases = [False, True]\n",
        "alphas = [1.0e-5, 1.0e-4, 1.0e-3,1.0e-2, 1.0e-1, 1.0, 10.0, 100.0]\n",
        "\n",
        "best_stop_words = None\n",
        "best_min_df = None\n",
        "best_binary = None\n",
        "best_lowercase = None\n",
        "best_val_acc = 0\n",
        "best_alpha = None\n",
        "\n",
        "for stop_words in list_stop_words:\n",
        "  for min_df in min_dfs:\n",
        "    for binary in binaries:\n",
        "      for lowercase in lowercases:\n",
        "        vectorizer = TfidfVectorizer(min_df=min_df, stop_words=stop_words, binary=binary, lowercase=lowercase)\n",
        "        X_train = vectorizer.fit_transform(X_text_train)\n",
        "        X_val = vectorizer.transform(X_text_val)\n",
        "        for alpha in alphas:\n",
        "          clf = MultinomialNB(alpha=alpha)\n",
        "          clf.fit(X_train, y_train)\n",
        "          val_acc = accuracy_score(y_val, clf.predict(X_val))\n",
        "          if val_acc >= best_val_acc:\n",
        "            best_stop_words = stop_words\n",
        "            best_min_df = min_df\n",
        "            best_binary = binary\n",
        "            best_lowercase = lowercase\n",
        "            best_val_acc = val_acc\n",
        "            best_alpha = alpha"
      ]
    },
    {
      "cell_type": "code",
      "execution_count": null,
      "metadata": {
        "id": "ZXYIqiR2bdke"
      },
      "outputs": [],
      "source": [
        "vectorizer = TfidfVectorizer(min_df=best_min_df, stop_words=best_stop_words, binary=best_binary, lowercase=best_lowercase)\n",
        "X_train = vectorizer.fit_transform(X_text_train)\n",
        "X_test = vectorizer.transform(X_text_test)\n",
        "X_val = vectorizer.transform(X_text_val)\n",
        "\n",
        "print('Best parameters are ' + str(best_stop_words) + ' ' + str(best_min_df) + ' ' + str(best_binary) + ' ' + str(best_lowercase))\n",
        "print('Best validation accuracy is ' + str(best_val_acc) + ' with alpha ' + str(best_alpha))\n",
        "print('Vocabulary size: ', X_train.shape[1])"
      ]
    },
    {
      "cell_type": "code",
      "execution_count": null,
      "metadata": {
        "id": "wXTuf4RHbe25"
      },
      "outputs": [],
      "source": [
        "clf = MultinomialNB(alpha=best_alpha)\n",
        "clf.fit(X_train, y_train)"
      ]
    },
    {
      "cell_type": "code",
      "execution_count": null,
      "metadata": {
        "id": "FfoztuBIbgVK"
      },
      "outputs": [],
      "source": [
        "print('Test set accuracy: %.3f' % accuracy_score(y_test, clf.predict(X_test)))"
      ]
    },
    {
      "cell_type": "code",
      "execution_count": null,
      "metadata": {
        "id": "2yfVy9hubht7"
      },
      "outputs": [],
      "source": [
        "disp = ConfusionMatrixDisplay.from_estimator(\n",
        "        clf,\n",
        "        X_test,\n",
        "        y_test,\n",
        "        cmap=plt.cm.Blues,\n",
        ")"
      ]
    },
    {
      "cell_type": "markdown",
      "metadata": {
        "id": "5VMPXP0tcawL"
      },
      "source": [
        "#Training and Testing for TfidfVectorizer and SVC\n",
        "\n",
        "---\n",
        "\n",
        "\n",
        "\n",
        "\n"
      ]
    },
    {
      "cell_type": "code",
      "execution_count": null,
      "metadata": {
        "id": "b2uGjNqucOV8"
      },
      "outputs": [],
      "source": [
        "#TfidfVectorizer and SVC\n",
        "list_stop_words = ['english', None]\n",
        "min_dfs = [1, 0.1, 0.01, 0.001, 0.0001]\n",
        "binaries = [False, True]\n",
        "lowercases = [False, True]\n",
        "\n",
        "Cs = [0.001, 0.01, 0.1, 1, 10, 100]\n",
        "kernels = ['linear', 'rbf', 'poly']\n",
        "gammas = ['scale', 'auto']\n",
        "\n",
        "\n",
        "best_stop_words = None\n",
        "best_min_df = None\n",
        "best_binary = None\n",
        "best_lowercase = None\n",
        "best_val_acc = 0\n",
        "best_C = None\n",
        "best_kernel = None\n",
        "best_gamma = None\n",
        "\n",
        "for stop_words in list_stop_words:\n",
        "  for min_df in min_dfs:\n",
        "    for binary in binaries:\n",
        "      for lowercase in lowercases:\n",
        "        vectorizer = TfidfVectorizer(min_df=min_df, stop_words=stop_words, binary=binary, lowercase=lowercase)\n",
        "        X_train = vectorizer.fit_transform(X_text_train)\n",
        "        X_val = vectorizer.transform(X_text_val)\n",
        "        for C in Cs:\n",
        "          for kernel in kernels:\n",
        "            for gamma in gammas:\n",
        "              clf = SVC(C = C, kernel = kernel, gamma = gamma)\n",
        "              clf.fit(X_train, y_train)\n",
        "              val_acc = accuracy_score(y_val, clf.predict(X_val))\n",
        "              if val_acc >= best_val_acc:\n",
        "                best_stop_words = stop_words\n",
        "                best_min_df = min_df\n",
        "                best_binary = binary\n",
        "                best_lowercase = lowercase\n",
        "                best_val_acc = val_acc\n",
        "                best_C = C\n",
        "                best_kernel = kernel\n",
        "                best_gamma = gamma"
      ]
    },
    {
      "cell_type": "code",
      "execution_count": null,
      "metadata": {
        "id": "5uPHzqcpcet9"
      },
      "outputs": [],
      "source": [
        "vectorizer = TfidfVectorizer(min_df=best_min_df, stop_words=best_stop_words, binary=best_binary, lowercase=best_lowercase)\n",
        "X_train = vectorizer.fit_transform(X_text_train)\n",
        "X_test = vectorizer.transform(X_text_test)\n",
        "X_val = vectorizer.transform(X_text_val)\n",
        "\n",
        "print('Best parameters are ' + str(best_stop_words) + ' ' + str(best_min_df) + ' ' + str(best_binary) + ' ' + str(best_lowercase))\n",
        "print('Best validation accuracy is ' + str(best_val_acc) + ' with C=' + str(best_C) + ' and kernel=' + best_kernel + ' and gamma=' + best_gamma)\n",
        "print('Vocabulary size: ', X_train.shape[1])"
      ]
    },
    {
      "cell_type": "code",
      "execution_count": null,
      "metadata": {
        "id": "QsngZ1I-cgcK"
      },
      "outputs": [],
      "source": [
        "clf = SVC(C = best_C, kernel = best_kernel, gamma = best_gamma)\n",
        "clf.fit(X_train, y_train)"
      ]
    },
    {
      "cell_type": "code",
      "execution_count": null,
      "metadata": {
        "id": "bFedd10JcikX"
      },
      "outputs": [],
      "source": [
        "print('Test set accuracy: %.3f' % accuracy_score(y_test, clf.predict(X_test)))"
      ]
    },
    {
      "cell_type": "code",
      "execution_count": null,
      "metadata": {
        "id": "jrmvtBfOcjzH"
      },
      "outputs": [],
      "source": [
        "disp = ConfusionMatrixDisplay.from_estimator(\n",
        "        clf,\n",
        "        X_test,\n",
        "        y_test,\n",
        "        cmap=plt.cm.Blues,\n",
        ")"
      ]
    },
    {
      "cell_type": "markdown",
      "metadata": {
        "id": "LMgQowPkglFc"
      },
      "source": [
        "#Generalizing\n",
        "\n",
        "Combination1: CountVectorizer + MultinomialNB:\n",
        "\n",
        "    Best parameters are None 0.0001 True True\n",
        "\n",
        "    Best validation accuracy is 0.79 with alpha 0.1\n",
        "\n",
        "    Vocabulary size:  1622\n",
        "\n",
        "    Test set accuracy: 0.790\n",
        "\n",
        "Combination2: CountVectorizer + SVC:\n",
        "\n",
        "    Best parameters are None 0.0001 True True\n",
        "\n",
        "    Best validation accuracy is 0.89 with C=100 and kernel=linear and gamma=auto\n",
        "\n",
        "    Vocabulary size:  1622\n",
        "\n",
        "    Test set accuracy: 0.780\n",
        "\n",
        "Combination3: TfidfVectorizer + MultinomialNB:\n",
        "\n",
        "    Best parameters are None 0.0001 True False\n",
        "\n",
        "    Best validation accuracy is 0.8 with alpha 1.0\n",
        "\n",
        "    Vocabulary size:  1825\n",
        "\n",
        "    Test set accuracy: 0.770\n",
        "  \n",
        "Combination4: TfidfVectorizer + SVC\n",
        "\n",
        "    Best parameters are None 0.0001 True True\n",
        "\n",
        "    Best validation accuracy is 0.89 with C=100 and kernel=linear and gamma=auto\n",
        "\n",
        "    Vocabulary size:  1622\n",
        "\n",
        "    Test set accuracy: 0.820\n",
        "\n",
        "Overall, the best validation accuracy was seen for CountVectorizer + SVC and TfidfVectorizer + SVC which is 89%, however for test set the first one should comparatevely low accuracy with 78%, while the combination of TfidfVectorizer + SVC had the best among all accuracies 82%"
      ]
    },
    {
      "cell_type": "code",
      "execution_count": null,
      "metadata": {
        "id": "KXARLZ_8g6rw"
      },
      "outputs": [],
      "source": []
    }
  ],
  "metadata": {
    "colab": {
      "provenance": []
    },
    "kernelspec": {
      "display_name": "Python 3",
      "language": "python",
      "name": "python3"
    },
    "language_info": {
      "codemirror_mode": {
        "name": "ipython",
        "version": 3
      },
      "file_extension": ".py",
      "mimetype": "text/x-python",
      "name": "python",
      "nbconvert_exporter": "python",
      "pygments_lexer": "ipython3",
      "version": "3.9.0"
    }
  },
  "nbformat": 4,
  "nbformat_minor": 0
}